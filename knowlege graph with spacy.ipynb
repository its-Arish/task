{
  "nbformat": 4,
  "nbformat_minor": 0,
  "metadata": {
    "colab": {
      "name": "Untitled11.ipynb",
      "provenance": []
    },
    "kernelspec": {
      "name": "python3",
      "display_name": "Python 3"
    },
    "language_info": {
      "name": "python"
    }
  },
  "cells": [
    {
      "cell_type": "code",
      "execution_count": 18,
      "metadata": {
        "colab": {
          "base_uri": "https://localhost:8080/"
        },
        "id": "RqgnBHokaxI9",
        "outputId": "9d45ff78-9611-4c97-8b90-97c1c9c1070f"
      },
      "outputs": [
        {
          "output_type": "stream",
          "name": "stdout",
          "text": [
            "Noun phrases: ['Statement US undersecretary Uzra Zeya', 'Nepal', 'Election Commission', 'corruption-accused rural municipality chief', 'Kailali', 'office', 'House', 'govt', '8-year-old rape case', 'beauty pageant organiser', 'Birgunj', 'UML', 'Nepali Congress victory rally', 'The new term', 'local governments', 'over 100 units', 'officials', '2022 local elections', 'the death', 'alternative forces', 'Nepal', 'Understanding Balen Shah', 'likely victory', 'Kathmandu mayor', '5 points', 'Chinese Ambassador Hou Yanqi', 'Home Minister Khand', 'Local elections', 'a face-saver', 'the UML', 'the 9-month House obstruction', 'all parties', 'a lesson', 'UML', 'parliament obstruction', '9 months', 'Naveen Srivastava', 'Indian ambassador', 'Nepal', 'House', 'nominations', 'ambassadors', 'China', 'South Africa', 'Local elections', 'major political leaders', 'grip', 'their own areas', 'Lumbini', 'Nepal', 'India', '6 agreement', 'Biplav’s party', 'any position', 'its stronghold', 'Rolpa', 'Balen Shah', 'Kathmandu mayor', 'it', 'UML', 'the ruling alliance', 'poll rigging', 'Balen Shah’s lead', 'Kathmandu', 'the slow vote count', 'Nepal', 'the nation', ', Lalitpur', 'More votes', 'nonexistent Nepali Congress deputy mayor candidate', 'the one', 'it', 'Local elections', 'Some independent and rebel candidates', 'the show', 'major forces’ picks', 'Nepal local elections', 'Commission', '64% voter turnout', 'polls', '77 voting centres', '28 units', 'Election Commission', 'clarification', 'Baburam Bhattarai', 'his ballot public', 'Nepal local elections', 'Vote count', 'most places', '(Updated) Elections', 'Monday', 'Dakneshwori', 'Saptari', 'Birgunj', 'Police', 'umbrellas', 'JSPN office', 'polling station', 'Rolpa', 'an interparty clash', 'the eve', 'voting', '(Updated) Nepal local elections', '41% voter turnout', '2:00 pm', 'Rukum East', 'a tussle', 'Nepali Congress', 'Maoists', 'Rajesh Hamal hints', 'politics', 'he', 'his vote', 'Local elections', 'some sporadic cases', 'violence', 'Nepal local elections', 'Elderly', 'excitement', 'the growth', 'grassroots democracy', 'Nepal', 'nationwide local elections', 'Police', 'the chief', 'CPN-Majority', 'Bipalv Maoists’ splinter group', 'Indian Air Force aircraft', 'Lumbini', 'Modi', 'visit', 'New voters', 'their voter', 'id cards', '62 years', 'diplomatic relations', 'Peaceful elections', 'Nepal', 'An achievement', 'democratic practices', '75 years', 'Election Commission', 'former chief Ayodhi Prasad Yadav’s poll observation application', 'PM Deuba', 'Dadeldhura', 'local elections', 'office', 'Nepali Congress deputy mayoral candidate', 'Nepal', 'the right', 'voting', 'some pointers', 'Dang', 'one ward', 'UML', 'chair candidate', 'Commission', 'results', 'May']\n",
            "Verbs: ['come', 'bar', 'accuse', 'assume', 'tell', 'investigate', 'involve', 'injure', 'begin', 'elect', 'mark', 'call', 'offer', 'end', 'need', 'learn', 'discontinue', 'appoint', 'approve', 'expose', 'lose', 'fail', 'win', 'trail', 'accuse', 'rule', 'continue', 'excite', 'frustrate', 'support', 'steal', 'estimate', 'get', 'reschedule', 'seek', 'make', 'vote', 'begin', 'update', 'hold', 'confiscate', 'miss', 'follow', 'update', 'vote', 'begin', 'join', 'cast', 'vote', 'spark', 'hope', 'hold', 'detain', 'arrive', 'prepare', 'would', 'mark', 'reject', 'return', 'vote', 'die', 'reject', 'consider', 'vote', 'postpone', 'die', 'publish']\n",
            "US GPE\n",
            "Uzra Zeya PERSON\n",
            "Nepal, Election Commission ORG\n",
            "Kailali GPE\n",
            "House ORG\n",
            "Birgunj ORG\n",
            "6 CARDINAL\n",
            "UML ORG\n",
            "Nepali Congress ORG\n",
            "today DATE\n",
            "over 100 CARDINAL\n",
            "2022 CARDINAL\n",
            "Nepal GPE\n",
            "Kathmandu NORP\n",
            "5 CARDINAL\n",
            "Chinese NORP\n",
            "Hou Yanqi PERSON\n",
            "Khand PERSON\n",
            "UML ORG\n",
            "House ORG\n",
            "UML ORG\n",
            "9 months DATE\n",
            "Naveen Srivastava PERSON\n",
            "Indian NORP\n",
            "Nepal GPE\n",
            "House ORG\n",
            "China GPE\n",
            "South Africa GPE\n",
            "Nepal GPE\n",
            "India GPE\n",
            "6 CARDINAL\n",
            "Biplav PERSON\n",
            "Rolpa, Balen Shah ORG\n",
            "Kathmandu GPE\n",
            "Balen Shah PERSON\n",
            "Kathmandu GPE\n",
            "Nepal GPE\n",
            "Lalitpur ORG\n",
            "Nepali Congress ORG\n",
            "one CARDINAL\n",
            "64% PERCENT\n",
            "77 CARDINAL\n",
            "28 CARDINAL\n",
            "Election Commission ORG\n",
            "Baburam Bhattarai PERSON\n",
            "Nepal NORP\n",
            "tonight TIME\n",
            "Monday DATE\n",
            "Birgunj NORP\n",
            "JSPN GPE\n",
            "2 CARDINAL\n",
            "41% PERCENT\n",
            "2:00 pm TIME\n",
            "Rukum East GPE\n",
            "Nepali Congress ORG\n",
            "Maoists NORP\n",
            "Nepal NORP\n",
            "Nepal NORP\n",
            "today DATE\n",
            "Bastola GPE\n",
            "CPN-Majority ORG\n",
            "Bipalv Maoists ORG\n",
            "Indian Air Force ORG\n",
            "Lumbini GPE\n",
            "Modi PRODUCT\n",
            "today DATE\n",
            "tomorrow DATE\n",
            "Nepal GPE\n",
            "Israel GPE\n",
            "62 years DATE\n",
            "Nepal GPE\n",
            "75 years DATE\n",
            "Election Commission ORG\n",
            "Ayodhi Prasad PERSON\n",
            "Dadeldhura GPE\n",
            "Kapilvastu PERSON\n",
            "Nepali Congress PERSON\n",
            "NOTA ORG\n",
            "Dang PERSON\n",
            "UML ORG\n",
            "May 19 DATE\n"
          ]
        }
      ],
      "source": [
        "import spacy\n",
        "nlp = spacy.load(\"en_core_web_sm\")\n",
        "#here you can since i neeeded to check the graph i manually put all the datasets \n",
        "#remove the comment text to do it \n",
        "#text = pd.read_csv('NEWS.csv', encoding = \"ISO-8859-1\") can be done\n",
        "#text.shape()\n",
        "text = (\"Statement US undersecretary Uzra Zeya coming to Nepal, Election Commission bars corruption-accused rural municipality chief in Kailali from assuming office, House tells govt to investigate 8-year-old rape case involving beauty pageant organiser, Birgunj: 6 injured in UML’s attack on Nepali Congress victory rally, The new term of local governments begins today, but over 100 units are yet to elect officials, Do 2022 local elections mark the death of alternative forces in Nepal?, Understanding Balen Shah’s likely victory as Kathmandu mayor in 5 points, Chinese Ambassador Hou Yanqi calls on Home Minister Khand, Local elections offered a face-saver to the UML to end the 9-month House obstruction. Now, all parties need to learn a lesson, UML discontinues parliament obstruction after 9 months, Naveen Srivastava appointed Indian ambassador to Nepal , House approves nominations for ambassadors to China, South Africa, Local elections expose major political leaders losing grip on their own areas, Modi in Lumbini: Nepal, India sign 6 agreement, Biplav’s party fails to win any position in its stronghold of Rolpa, Balen Shah for Kathmandu mayor: Is it too early to be certain?, Trailing behind, UML accuses the ruling alliance of poll rigging, As Balen Shah’s lead continues to excite Kathmandu, the slow vote count across Nepal frustrates the nation, Lalitpur: More votes for nonexistent Nepali Congress deputy mayor candidate than for the one it supports, Local elections: Some independent and rebel candidates also steal the show along with major forces’ picks,  Nepal local elections: Commission estimates 64% voter turnout, polls get rescheduled at 77 voting centres in 28 units, Election Commission seeks clarification from Baburam Bhattarai for making his ballot public, Nepal local elections: Vote count to begin tonight in most places, (Updated) Elections to be held on Monday in Dakneshwori of Saptari, Birgunj: Police confiscate umbrellas from JSPN office near polling station, 2 missing from Rolpa following an interparty clash on the eve of voting, (Updated) Nepal local elections: 41% voter turnout as of 2:00 pm, Voting in Rukum East is yet to begin due to a tussle between Nepali Congress and Maoists, Rajesh Hamal hints at joining politics as he casts his vote, Local elections: Voting underway peacefully in general except for some sporadic cases of violence, Nepal local elections: Elderly’s excitement sparks hope for the growth of grassroots democracy, Nepal holding nationwide local elections today, Police briefly detain Dharmendra Bastola, the chief of CPN-Majority, Bipalv Maoists’ splinter group, Indian Air Force aircraft arrives in Lumbini to prepare for Modi’s visit, New voters to get their voter id cards today and tomorrow, Nepal and Israel mark 62 years of diplomatic relations, Peaceful elections in Nepal: An achievement of democratic practices for 75 years, Election Commission rejects former chief Ayodhi Prasad Yadav’s poll observation application,  PM Deuba in Dadeldhura for local elections, to return to office after voting only, Kapilvastu: Nepali Congress deputy mayoral candidate dies, Is Nepal ready for the right to reject (NOTA) in voting? Here are some pointers to consider, Dang: Voting in one ward to get postponed as UML’s chair candidate dies, Local elections: Commission to publish results by May 19,\")\n",
        "doc = nlp(text)\n",
        "print(\"Noun phrases:\", [chunk.text for chunk in doc.noun_chunks])\n",
        "print(\"Verbs:\", [token.lemma_ for token in doc if token.pos_ == \"VERB\"])\n",
        "for entity in doc.ents:\n",
        "    print(entity.text, entity.label_)"
      ]
    },
    {
      "cell_type": "code",
      "source": [
        "import spacy\n",
        "from spacy.lang.en import English\n",
        "import networkx as nx\n",
        "import matplotlib.pyplot as plt\n",
        "import pandas as pd\n"
      ],
      "metadata": {
        "id": "lt4oOwspa0e2"
      },
      "execution_count": 19,
      "outputs": []
    },
    {
      "cell_type": "code",
      "source": [
        "def getSentences(text):\n",
        "    nlp = English()\n",
        "    nlp.add_pipe(nlp.create_pipe('sentencizer'))\n",
        "    document = nlp(text)\n",
        "    return [sent.string.strip() for sent in document.sents]"
      ],
      "metadata": {
        "id": "gOFXMvfTce3b"
      },
      "execution_count": 20,
      "outputs": []
    },
    {
      "cell_type": "code",
      "source": [
        "def printToken(token):\n",
        "    print(token.text, \"->\", token.dep_)"
      ],
      "metadata": {
        "id": "st0JY9ePcgHk"
      },
      "execution_count": 21,
      "outputs": []
    },
    {
      "cell_type": "code",
      "source": [
        "def appendChunk(original, chunk):\n",
        "    return original + ' ' + chunk"
      ],
      "metadata": {
        "id": "2hRyURzUcg-E"
      },
      "execution_count": 22,
      "outputs": []
    },
    {
      "cell_type": "code",
      "source": [
        "def isRelationCandidate(token):\n",
        "    deps = [\"ROOT\", \"adj\", \"attr\", \"agent\", \"amod\"]\n",
        "    return any(subs in token.dep_ for subs in deps)"
      ],
      "metadata": {
        "id": "17KIcraOch6E"
      },
      "execution_count": 23,
      "outputs": []
    },
    {
      "cell_type": "code",
      "source": [
        "def isConstructionCandidate(token):\n",
        "    deps = [\"compound\", \"prep\", \"conj\", \"mod\"]\n",
        "    return any(subs in token.dep_ for subs in deps)\n",
        "    "
      ],
      "metadata": {
        "id": "GWzRRTVUcjqc"
      },
      "execution_count": 24,
      "outputs": []
    },
    {
      "cell_type": "code",
      "source": [
        "def processSubjectObjectPairs(tokens):\n",
        "    subject = ''\n",
        "    object = ''\n",
        "    relation = ''\n",
        "    subjectConstruction = ''\n",
        "    objectConstruction = ''\n",
        "    for token in tokens:\n",
        "        printToken(token)\n",
        "        if \"punct\" in token.dep_:\n",
        "            continue\n",
        "        if isRelationCandidate(token):\n",
        "            relation = appendChunk(relation, token.lemma_)\n",
        "        if isConstructionCandidate(token):\n",
        "            if subjectConstruction:\n",
        "                subjectConstruction = appendChunk(subjectConstruction, token.text)\n",
        "            if objectConstruction:\n",
        "                objectConstruction = appendChunk(objectConstruction, token.text)\n",
        "        if \"subj\" in token.dep_:\n",
        "            subject = appendChunk(subject, token.text)\n",
        "            subject = appendChunk(subjectConstruction, subject)\n",
        "            subjectConstruction = ''\n",
        "        if \"obj\" in token.dep_:\n",
        "            object = appendChunk(object, token.text)\n",
        "            object = appendChunk(objectConstruction, object)\n",
        "            objectConstruction = ''\n",
        "\n",
        "    print (subject.strip(), \",\", relation.strip(), \",\", object.strip())\n",
        "    return (subject.strip(), relation.strip(), object.strip())"
      ],
      "metadata": {
        "id": "yd5RqKP7clJU"
      },
      "execution_count": 25,
      "outputs": []
    },
    {
      "cell_type": "code",
      "source": [
        "def processSentence(sentence):\n",
        "    tokens = nlp_model(sentence)\n",
        "    return processSubjectObjectPairs(tokens)"
      ],
      "metadata": {
        "id": "euM62p0WcnG0"
      },
      "execution_count": 26,
      "outputs": []
    },
    {
      "cell_type": "code",
      "source": [
        "def printGraph(triples):\n",
        "    G = nx.Graph()\n",
        "    for triple in triples:\n",
        "        G.add_node(triple[0])\n",
        "        G.add_node(triple[1])\n",
        "        G.add_node(triple[2])\n",
        "        G.add_edge(triple[0], triple[1])\n",
        "        G.add_edge(triple[1], triple[2])\n",
        "\n",
        "    pos = nx.spring_layout(G)\n",
        "    plt.figure()\n",
        "    nx.draw(G, pos, edge_color='black', width=1, linewidths=1,\n",
        "            node_size=500, node_color='seagreen', alpha=0.9,\n",
        "            labels={node: node for node in G.nodes()})\n",
        "    plt.axis('off')\n",
        "    plt.show()"
      ],
      "metadata": {
        "id": "D2HShXlOcopF"
      },
      "execution_count": 27,
      "outputs": []
    },
    {
      "cell_type": "code",
      "source": [
        "text = input('Enter the string to question and answer ') "
      ],
      "metadata": {
        "id": "o0GznCulcp3M",
        "colab": {
          "base_uri": "https://localhost:8080/"
        },
        "outputId": "040930e2-061a-4dca-f6ad-0d29b68df038"
      },
      "execution_count": 30,
      "outputs": [
        {
          "name": "stdout",
          "output_type": "stream",
          "text": [
            "Enter the string to question and answer balen shah result of the election in NEPAL\n"
          ]
        }
      ]
    },
    {
      "cell_type": "code",
      "source": [
        "    sentences = getSentences(text)\n",
        "    nlp_model = spacy.load('en_core_web_sm')\n",
        "\n",
        "    triples = []\n",
        "    print(text)\n",
        "    for sentence in sentences:\n",
        "        triples.append(processSentence(sentence))\n",
        "\n",
        "    printGraph(triples)"
      ],
      "metadata": {
        "id": "Hqx6_tm3cq_8",
        "colab": {
          "base_uri": "https://localhost:8080/",
          "height": 493
        },
        "outputId": "9f757d29-928e-4bae-a63a-daac02aa6339"
      },
      "execution_count": 31,
      "outputs": [
        {
          "output_type": "stream",
          "name": "stdout",
          "text": [
            "balen shah result of the election in NEPAL\n",
            "balen -> compound\n",
            "shah -> compound\n",
            "result -> ROOT\n",
            "of -> prep\n",
            "the -> det\n",
            "election -> pobj\n",
            "in -> prep\n",
            "NEPAL -> pobj\n",
            " , result , election NEPAL\n"
          ]
        },
        {
          "output_type": "display_data",
          "data": {
            "text/plain": [
              "<Figure size 432x288 with 1 Axes>"
            ],
            "image/png": "[encoded data removed]"
          },
          "metadata": {}
        }
      ]
    },
    {
      "cell_type": "code",
      "source": [
        ""
      ],
      "metadata": {
        "id": "RXNYRArAdKo1"
      },
      "execution_count": null,
      "outputs": []
    }
  ]
}